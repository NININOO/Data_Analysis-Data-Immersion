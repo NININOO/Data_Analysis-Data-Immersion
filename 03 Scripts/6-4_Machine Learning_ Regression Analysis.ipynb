{
 "cells": [
  {
   "cell_type": "markdown",
   "metadata": {},
   "source": [
    "## 6.4 Machine Learning Part 1"
   ]
  },
  {
   "cell_type": "markdown",
   "metadata": {},
   "source": [
    "### Hypothesis: The higher a country's GDP (Gross Domestic Product), the lower its \"energy intensity level\" (Energy Intensity Level of Primary Energy) will be."
   ]
  },
  {
   "cell_type": "markdown",
   "metadata": {},
   "source": [
    "### This script contains the following:\n",
    "\n",
    "#### 1. Importing libraries and data\n",
    "#### 2. Data cleaning\n",
    "#### 3. Data prep for regression analysis\n",
    "#### 4. Regression analysis"
   ]
  },
  {
   "cell_type": "markdown",
   "metadata": {},
   "source": [
    "### 1. Importing libraries and data"
   ]
  },
  {
   "cell_type": "code",
   "execution_count": 1,
   "metadata": {},
   "outputs": [],
   "source": [
    "import pandas as pd\n",
    "import numpy as np\n",
    "import seaborn as sns\n",
    "import matplotlib\n",
    "import matplotlib.pyplot as plt\n",
    "import os\n",
    "import sklearn\n",
    "from sklearn.model_selection import train_test_split \n",
    "from sklearn.linear_model import LinearRegression\n",
    "from sklearn.metrics import mean_squared_error, r2_score"
   ]
  },
  {
   "cell_type": "code",
   "execution_count": 2,
   "metadata": {},
   "outputs": [],
   "source": [
    "# This option ensures that the graphs you create are displayed within the notebook without the need to \"call\" them specifically.\n",
    "\n",
    "%matplotlib inline"
   ]
  },
  {
   "cell_type": "code",
   "execution_count": 3,
   "metadata": {},
   "outputs": [],
   "source": [
    "path=r'/Users/nikolinastekovic/Library/CloudStorage/OneDrive-Personal/CF DATA ANALYICS/Immerse/6-Advanced Analytics and Dashboard Design'"
   ]
  },
  {
   "cell_type": "code",
   "execution_count": 5,
   "metadata": {},
   "outputs": [],
   "source": [
    "# Import the sustainable energy data\n",
    "\n",
    "df = pd.read_csv(os.path.join(path, '02 Data', 'Prepared Data', 'global-data-on-sustainable-energy_clean.csv'), index_col = False)"
   ]
  },
  {
   "cell_type": "markdown",
   "metadata": {},
   "source": [
    "### 2. Data cleaning"
   ]
  },
  {
   "cell_type": "code",
   "execution_count": 6,
   "metadata": {
    "scrolled": true
   },
   "outputs": [
    {
     "data": {
      "text/plain": [
       "Index(['Unnamed: 0', 'Country', 'Year',\n",
       "       'Access to electricity (% of population)',\n",
       "       'Access to clean fuels for cooking',\n",
       "       'Renewable energy share in the total final energy consumption (%)',\n",
       "       'Electricity from fossil fuels (TWh)', 'Electricity from nuclear (TWh)',\n",
       "       'Electricity from renewables (TWh)',\n",
       "       'Low-carbon electricity (% electricity)',\n",
       "       'Primary energy consumption per capita (kWh/person)',\n",
       "       'Energy intensity level of primary energy (MJ/$2017 PPP GDP)',\n",
       "       'Value_co2_emissions_kt_by_country', 'gdp_growth', 'gdp_per_capita',\n",
       "       'Density\\n(P/Km2)', 'Land Area(Km2)', 'Latitude', 'Longitude'],\n",
       "      dtype='object')"
      ]
     },
     "execution_count": 6,
     "metadata": {},
     "output_type": "execute_result"
    }
   ],
   "source": [
    "df.columns"
   ]
  },
  {
   "cell_type": "code",
   "execution_count": 7,
   "metadata": {
    "scrolled": true
   },
   "outputs": [
    {
     "data": {
      "text/html": [
       "<div>\n",
       "<style scoped>\n",
       "    .dataframe tbody tr th:only-of-type {\n",
       "        vertical-align: middle;\n",
       "    }\n",
       "\n",
       "    .dataframe tbody tr th {\n",
       "        vertical-align: top;\n",
       "    }\n",
       "\n",
       "    .dataframe thead th {\n",
       "        text-align: right;\n",
       "    }\n",
       "</style>\n",
       "<table border=\"1\" class=\"dataframe\">\n",
       "  <thead>\n",
       "    <tr style=\"text-align: right;\">\n",
       "      <th></th>\n",
       "      <th>Unnamed: 0</th>\n",
       "      <th>Country</th>\n",
       "      <th>Year</th>\n",
       "      <th>Access to electricity (% of population)</th>\n",
       "      <th>Access to clean fuels for cooking</th>\n",
       "      <th>Renewable energy share in the total final energy consumption (%)</th>\n",
       "      <th>Electricity from fossil fuels (TWh)</th>\n",
       "      <th>Electricity from nuclear (TWh)</th>\n",
       "      <th>Electricity from renewables (TWh)</th>\n",
       "      <th>Low-carbon electricity (% electricity)</th>\n",
       "      <th>Primary energy consumption per capita (kWh/person)</th>\n",
       "      <th>Energy intensity level of primary energy (MJ/$2017 PPP GDP)</th>\n",
       "      <th>Value_co2_emissions_kt_by_country</th>\n",
       "      <th>gdp_growth</th>\n",
       "      <th>gdp_per_capita</th>\n",
       "      <th>Density\\n(P/Km2)</th>\n",
       "      <th>Land Area(Km2)</th>\n",
       "      <th>Latitude</th>\n",
       "      <th>Longitude</th>\n",
       "    </tr>\n",
       "  </thead>\n",
       "  <tbody>\n",
       "    <tr>\n",
       "      <th>0</th>\n",
       "      <td>0</td>\n",
       "      <td>Afghanistan</td>\n",
       "      <td>2000</td>\n",
       "      <td>1.613591</td>\n",
       "      <td>6.20</td>\n",
       "      <td>44.99</td>\n",
       "      <td>0.16</td>\n",
       "      <td>0.0</td>\n",
       "      <td>0.31</td>\n",
       "      <td>65.957440</td>\n",
       "      <td>302.59482</td>\n",
       "      <td>1.64</td>\n",
       "      <td>760.000000</td>\n",
       "      <td>3.400000</td>\n",
       "      <td>13283.800000</td>\n",
       "      <td>60</td>\n",
       "      <td>652230.0</td>\n",
       "      <td>33.93911</td>\n",
       "      <td>67.709953</td>\n",
       "    </tr>\n",
       "    <tr>\n",
       "      <th>1</th>\n",
       "      <td>1</td>\n",
       "      <td>Afghanistan</td>\n",
       "      <td>2001</td>\n",
       "      <td>4.074574</td>\n",
       "      <td>7.20</td>\n",
       "      <td>45.60</td>\n",
       "      <td>0.09</td>\n",
       "      <td>0.0</td>\n",
       "      <td>0.50</td>\n",
       "      <td>84.745766</td>\n",
       "      <td>236.89185</td>\n",
       "      <td>1.74</td>\n",
       "      <td>730.000000</td>\n",
       "      <td>3.400000</td>\n",
       "      <td>13283.800000</td>\n",
       "      <td>60</td>\n",
       "      <td>652230.0</td>\n",
       "      <td>33.93911</td>\n",
       "      <td>67.709953</td>\n",
       "    </tr>\n",
       "    <tr>\n",
       "      <th>2</th>\n",
       "      <td>2</td>\n",
       "      <td>Afghanistan</td>\n",
       "      <td>2002</td>\n",
       "      <td>9.409158</td>\n",
       "      <td>8.20</td>\n",
       "      <td>37.83</td>\n",
       "      <td>0.13</td>\n",
       "      <td>0.0</td>\n",
       "      <td>0.56</td>\n",
       "      <td>81.159424</td>\n",
       "      <td>210.86215</td>\n",
       "      <td>1.40</td>\n",
       "      <td>1029.999971</td>\n",
       "      <td>3.400000</td>\n",
       "      <td>179.426579</td>\n",
       "      <td>60</td>\n",
       "      <td>652230.0</td>\n",
       "      <td>33.93911</td>\n",
       "      <td>67.709953</td>\n",
       "    </tr>\n",
       "    <tr>\n",
       "      <th>3</th>\n",
       "      <td>3</td>\n",
       "      <td>Afghanistan</td>\n",
       "      <td>2003</td>\n",
       "      <td>14.738506</td>\n",
       "      <td>9.50</td>\n",
       "      <td>36.66</td>\n",
       "      <td>0.31</td>\n",
       "      <td>0.0</td>\n",
       "      <td>0.63</td>\n",
       "      <td>67.021280</td>\n",
       "      <td>229.96822</td>\n",
       "      <td>1.40</td>\n",
       "      <td>1220.000029</td>\n",
       "      <td>8.832278</td>\n",
       "      <td>190.683814</td>\n",
       "      <td>60</td>\n",
       "      <td>652230.0</td>\n",
       "      <td>33.93911</td>\n",
       "      <td>67.709953</td>\n",
       "    </tr>\n",
       "    <tr>\n",
       "      <th>4</th>\n",
       "      <td>4</td>\n",
       "      <td>Afghanistan</td>\n",
       "      <td>2004</td>\n",
       "      <td>20.064968</td>\n",
       "      <td>10.90</td>\n",
       "      <td>44.24</td>\n",
       "      <td>0.33</td>\n",
       "      <td>0.0</td>\n",
       "      <td>0.56</td>\n",
       "      <td>62.921350</td>\n",
       "      <td>204.23125</td>\n",
       "      <td>1.20</td>\n",
       "      <td>1029.999971</td>\n",
       "      <td>1.414118</td>\n",
       "      <td>211.382074</td>\n",
       "      <td>60</td>\n",
       "      <td>652230.0</td>\n",
       "      <td>33.93911</td>\n",
       "      <td>67.709953</td>\n",
       "    </tr>\n",
       "    <tr>\n",
       "      <th>5</th>\n",
       "      <td>5</td>\n",
       "      <td>Afghanistan</td>\n",
       "      <td>2005</td>\n",
       "      <td>25.390894</td>\n",
       "      <td>12.20</td>\n",
       "      <td>33.88</td>\n",
       "      <td>0.34</td>\n",
       "      <td>0.0</td>\n",
       "      <td>0.59</td>\n",
       "      <td>63.440857</td>\n",
       "      <td>252.06912</td>\n",
       "      <td>1.41</td>\n",
       "      <td>1549.999952</td>\n",
       "      <td>11.229715</td>\n",
       "      <td>242.031313</td>\n",
       "      <td>60</td>\n",
       "      <td>652230.0</td>\n",
       "      <td>33.93911</td>\n",
       "      <td>67.709953</td>\n",
       "    </tr>\n",
       "    <tr>\n",
       "      <th>6</th>\n",
       "      <td>6</td>\n",
       "      <td>Afghanistan</td>\n",
       "      <td>2006</td>\n",
       "      <td>30.718690</td>\n",
       "      <td>13.85</td>\n",
       "      <td>31.89</td>\n",
       "      <td>0.20</td>\n",
       "      <td>0.0</td>\n",
       "      <td>0.64</td>\n",
       "      <td>76.190475</td>\n",
       "      <td>304.42090</td>\n",
       "      <td>1.50</td>\n",
       "      <td>1759.999990</td>\n",
       "      <td>5.357403</td>\n",
       "      <td>263.733602</td>\n",
       "      <td>60</td>\n",
       "      <td>652230.0</td>\n",
       "      <td>33.93911</td>\n",
       "      <td>67.709953</td>\n",
       "    </tr>\n",
       "    <tr>\n",
       "      <th>7</th>\n",
       "      <td>7</td>\n",
       "      <td>Afghanistan</td>\n",
       "      <td>2007</td>\n",
       "      <td>36.051010</td>\n",
       "      <td>15.30</td>\n",
       "      <td>28.78</td>\n",
       "      <td>0.20</td>\n",
       "      <td>0.0</td>\n",
       "      <td>0.75</td>\n",
       "      <td>78.947370</td>\n",
       "      <td>354.27990</td>\n",
       "      <td>1.53</td>\n",
       "      <td>1769.999981</td>\n",
       "      <td>13.826320</td>\n",
       "      <td>359.693158</td>\n",
       "      <td>60</td>\n",
       "      <td>652230.0</td>\n",
       "      <td>33.93911</td>\n",
       "      <td>67.709953</td>\n",
       "    </tr>\n",
       "    <tr>\n",
       "      <th>8</th>\n",
       "      <td>8</td>\n",
       "      <td>Afghanistan</td>\n",
       "      <td>2008</td>\n",
       "      <td>42.400000</td>\n",
       "      <td>16.70</td>\n",
       "      <td>21.17</td>\n",
       "      <td>0.19</td>\n",
       "      <td>0.0</td>\n",
       "      <td>0.54</td>\n",
       "      <td>73.972600</td>\n",
       "      <td>607.83350</td>\n",
       "      <td>1.94</td>\n",
       "      <td>3559.999943</td>\n",
       "      <td>3.924984</td>\n",
       "      <td>364.663542</td>\n",
       "      <td>60</td>\n",
       "      <td>652230.0</td>\n",
       "      <td>33.93911</td>\n",
       "      <td>67.709953</td>\n",
       "    </tr>\n",
       "    <tr>\n",
       "      <th>9</th>\n",
       "      <td>9</td>\n",
       "      <td>Afghanistan</td>\n",
       "      <td>2009</td>\n",
       "      <td>46.740050</td>\n",
       "      <td>18.40</td>\n",
       "      <td>16.53</td>\n",
       "      <td>0.16</td>\n",
       "      <td>0.0</td>\n",
       "      <td>0.78</td>\n",
       "      <td>82.978720</td>\n",
       "      <td>975.04816</td>\n",
       "      <td>2.25</td>\n",
       "      <td>4880.000114</td>\n",
       "      <td>21.390528</td>\n",
       "      <td>437.268740</td>\n",
       "      <td>60</td>\n",
       "      <td>652230.0</td>\n",
       "      <td>33.93911</td>\n",
       "      <td>67.709953</td>\n",
       "    </tr>\n",
       "    <tr>\n",
       "      <th>10</th>\n",
       "      <td>10</td>\n",
       "      <td>Afghanistan</td>\n",
       "      <td>2010</td>\n",
       "      <td>42.700000</td>\n",
       "      <td>20.00</td>\n",
       "      <td>15.15</td>\n",
       "      <td>0.19</td>\n",
       "      <td>0.0</td>\n",
       "      <td>0.75</td>\n",
       "      <td>79.787230</td>\n",
       "      <td>1182.89200</td>\n",
       "      <td>2.46</td>\n",
       "      <td>7110.000134</td>\n",
       "      <td>14.362441</td>\n",
       "      <td>543.306526</td>\n",
       "      <td>60</td>\n",
       "      <td>652230.0</td>\n",
       "      <td>33.93911</td>\n",
       "      <td>67.709953</td>\n",
       "    </tr>\n",
       "    <tr>\n",
       "      <th>11</th>\n",
       "      <td>11</td>\n",
       "      <td>Afghanistan</td>\n",
       "      <td>2011</td>\n",
       "      <td>43.222020</td>\n",
       "      <td>21.80</td>\n",
       "      <td>12.61</td>\n",
       "      <td>0.18</td>\n",
       "      <td>0.0</td>\n",
       "      <td>0.60</td>\n",
       "      <td>76.923090</td>\n",
       "      <td>1436.11430</td>\n",
       "      <td>3.23</td>\n",
       "      <td>8930.000305</td>\n",
       "      <td>0.426355</td>\n",
       "      <td>591.190030</td>\n",
       "      <td>60</td>\n",
       "      <td>652230.0</td>\n",
       "      <td>33.93911</td>\n",
       "      <td>67.709953</td>\n",
       "    </tr>\n",
       "    <tr>\n",
       "      <th>12</th>\n",
       "      <td>12</td>\n",
       "      <td>Afghanistan</td>\n",
       "      <td>2012</td>\n",
       "      <td>69.100000</td>\n",
       "      <td>23.00</td>\n",
       "      <td>15.36</td>\n",
       "      <td>0.14</td>\n",
       "      <td>0.0</td>\n",
       "      <td>0.74</td>\n",
       "      <td>84.090910</td>\n",
       "      <td>1324.12110</td>\n",
       "      <td>2.61</td>\n",
       "      <td>8079.999924</td>\n",
       "      <td>12.752287</td>\n",
       "      <td>638.845852</td>\n",
       "      <td>60</td>\n",
       "      <td>652230.0</td>\n",
       "      <td>33.93911</td>\n",
       "      <td>67.709953</td>\n",
       "    </tr>\n",
       "    <tr>\n",
       "      <th>13</th>\n",
       "      <td>13</td>\n",
       "      <td>Afghanistan</td>\n",
       "      <td>2013</td>\n",
       "      <td>68.290650</td>\n",
       "      <td>24.80</td>\n",
       "      <td>16.86</td>\n",
       "      <td>0.22</td>\n",
       "      <td>0.0</td>\n",
       "      <td>0.89</td>\n",
       "      <td>80.180176</td>\n",
       "      <td>1060.79260</td>\n",
       "      <td>2.46</td>\n",
       "      <td>5989.999771</td>\n",
       "      <td>5.600745</td>\n",
       "      <td>624.315454</td>\n",
       "      <td>60</td>\n",
       "      <td>652230.0</td>\n",
       "      <td>33.93911</td>\n",
       "      <td>67.709953</td>\n",
       "    </tr>\n",
       "    <tr>\n",
       "      <th>14</th>\n",
       "      <td>14</td>\n",
       "      <td>Afghanistan</td>\n",
       "      <td>2014</td>\n",
       "      <td>89.500000</td>\n",
       "      <td>26.10</td>\n",
       "      <td>18.93</td>\n",
       "      <td>0.16</td>\n",
       "      <td>0.0</td>\n",
       "      <td>1.00</td>\n",
       "      <td>86.206900</td>\n",
       "      <td>868.57620</td>\n",
       "      <td>2.25</td>\n",
       "      <td>4880.000114</td>\n",
       "      <td>2.724543</td>\n",
       "      <td>614.223342</td>\n",
       "      <td>60</td>\n",
       "      <td>652230.0</td>\n",
       "      <td>33.93911</td>\n",
       "      <td>67.709953</td>\n",
       "    </tr>\n",
       "    <tr>\n",
       "      <th>15</th>\n",
       "      <td>15</td>\n",
       "      <td>Afghanistan</td>\n",
       "      <td>2015</td>\n",
       "      <td>71.500000</td>\n",
       "      <td>27.40</td>\n",
       "      <td>17.53</td>\n",
       "      <td>0.15</td>\n",
       "      <td>0.0</td>\n",
       "      <td>1.03</td>\n",
       "      <td>87.288140</td>\n",
       "      <td>970.08030</td>\n",
       "      <td>2.37</td>\n",
       "      <td>5949.999809</td>\n",
       "      <td>1.451315</td>\n",
       "      <td>556.007221</td>\n",
       "      <td>60</td>\n",
       "      <td>652230.0</td>\n",
       "      <td>33.93911</td>\n",
       "      <td>67.709953</td>\n",
       "    </tr>\n",
       "    <tr>\n",
       "      <th>16</th>\n",
       "      <td>16</td>\n",
       "      <td>Afghanistan</td>\n",
       "      <td>2016</td>\n",
       "      <td>97.700000</td>\n",
       "      <td>28.60</td>\n",
       "      <td>19.92</td>\n",
       "      <td>0.15</td>\n",
       "      <td>0.0</td>\n",
       "      <td>1.06</td>\n",
       "      <td>87.603294</td>\n",
       "      <td>862.79114</td>\n",
       "      <td>2.24</td>\n",
       "      <td>5300.000191</td>\n",
       "      <td>2.260314</td>\n",
       "      <td>512.012778</td>\n",
       "      <td>60</td>\n",
       "      <td>652230.0</td>\n",
       "      <td>33.93911</td>\n",
       "      <td>67.709953</td>\n",
       "    </tr>\n",
       "    <tr>\n",
       "      <th>17</th>\n",
       "      <td>17</td>\n",
       "      <td>Afghanistan</td>\n",
       "      <td>2017</td>\n",
       "      <td>97.700000</td>\n",
       "      <td>29.70</td>\n",
       "      <td>19.21</td>\n",
       "      <td>0.18</td>\n",
       "      <td>0.0</td>\n",
       "      <td>1.09</td>\n",
       "      <td>85.826775</td>\n",
       "      <td>829.31195</td>\n",
       "      <td>2.30</td>\n",
       "      <td>4780.000210</td>\n",
       "      <td>2.647003</td>\n",
       "      <td>516.679862</td>\n",
       "      <td>60</td>\n",
       "      <td>652230.0</td>\n",
       "      <td>33.93911</td>\n",
       "      <td>67.709953</td>\n",
       "    </tr>\n",
       "    <tr>\n",
       "      <th>18</th>\n",
       "      <td>18</td>\n",
       "      <td>Afghanistan</td>\n",
       "      <td>2018</td>\n",
       "      <td>96.616135</td>\n",
       "      <td>30.90</td>\n",
       "      <td>17.96</td>\n",
       "      <td>0.20</td>\n",
       "      <td>0.0</td>\n",
       "      <td>0.97</td>\n",
       "      <td>82.905980</td>\n",
       "      <td>924.25085</td>\n",
       "      <td>2.44</td>\n",
       "      <td>6070.000172</td>\n",
       "      <td>1.189228</td>\n",
       "      <td>485.668419</td>\n",
       "      <td>60</td>\n",
       "      <td>652230.0</td>\n",
       "      <td>33.93911</td>\n",
       "      <td>67.709953</td>\n",
       "    </tr>\n",
       "    <tr>\n",
       "      <th>19</th>\n",
       "      <td>19</td>\n",
       "      <td>Afghanistan</td>\n",
       "      <td>2019</td>\n",
       "      <td>97.700000</td>\n",
       "      <td>31.90</td>\n",
       "      <td>18.51</td>\n",
       "      <td>0.18</td>\n",
       "      <td>0.0</td>\n",
       "      <td>0.89</td>\n",
       "      <td>83.177570</td>\n",
       "      <td>802.61255</td>\n",
       "      <td>2.41</td>\n",
       "      <td>6079.999924</td>\n",
       "      <td>3.911603</td>\n",
       "      <td>494.179350</td>\n",
       "      <td>60</td>\n",
       "      <td>652230.0</td>\n",
       "      <td>33.93911</td>\n",
       "      <td>67.709953</td>\n",
       "    </tr>\n",
       "  </tbody>\n",
       "</table>\n",
       "</div>"
      ],
      "text/plain": [
       "    Unnamed: 0      Country  Year  Access to electricity (% of population)  \\\n",
       "0            0  Afghanistan  2000                                 1.613591   \n",
       "1            1  Afghanistan  2001                                 4.074574   \n",
       "2            2  Afghanistan  2002                                 9.409158   \n",
       "3            3  Afghanistan  2003                                14.738506   \n",
       "4            4  Afghanistan  2004                                20.064968   \n",
       "5            5  Afghanistan  2005                                25.390894   \n",
       "6            6  Afghanistan  2006                                30.718690   \n",
       "7            7  Afghanistan  2007                                36.051010   \n",
       "8            8  Afghanistan  2008                                42.400000   \n",
       "9            9  Afghanistan  2009                                46.740050   \n",
       "10          10  Afghanistan  2010                                42.700000   \n",
       "11          11  Afghanistan  2011                                43.222020   \n",
       "12          12  Afghanistan  2012                                69.100000   \n",
       "13          13  Afghanistan  2013                                68.290650   \n",
       "14          14  Afghanistan  2014                                89.500000   \n",
       "15          15  Afghanistan  2015                                71.500000   \n",
       "16          16  Afghanistan  2016                                97.700000   \n",
       "17          17  Afghanistan  2017                                97.700000   \n",
       "18          18  Afghanistan  2018                                96.616135   \n",
       "19          19  Afghanistan  2019                                97.700000   \n",
       "\n",
       "    Access to clean fuels for cooking  \\\n",
       "0                                6.20   \n",
       "1                                7.20   \n",
       "2                                8.20   \n",
       "3                                9.50   \n",
       "4                               10.90   \n",
       "5                               12.20   \n",
       "6                               13.85   \n",
       "7                               15.30   \n",
       "8                               16.70   \n",
       "9                               18.40   \n",
       "10                              20.00   \n",
       "11                              21.80   \n",
       "12                              23.00   \n",
       "13                              24.80   \n",
       "14                              26.10   \n",
       "15                              27.40   \n",
       "16                              28.60   \n",
       "17                              29.70   \n",
       "18                              30.90   \n",
       "19                              31.90   \n",
       "\n",
       "    Renewable energy share in the total final energy consumption (%)  \\\n",
       "0                                               44.99                  \n",
       "1                                               45.60                  \n",
       "2                                               37.83                  \n",
       "3                                               36.66                  \n",
       "4                                               44.24                  \n",
       "5                                               33.88                  \n",
       "6                                               31.89                  \n",
       "7                                               28.78                  \n",
       "8                                               21.17                  \n",
       "9                                               16.53                  \n",
       "10                                              15.15                  \n",
       "11                                              12.61                  \n",
       "12                                              15.36                  \n",
       "13                                              16.86                  \n",
       "14                                              18.93                  \n",
       "15                                              17.53                  \n",
       "16                                              19.92                  \n",
       "17                                              19.21                  \n",
       "18                                              17.96                  \n",
       "19                                              18.51                  \n",
       "\n",
       "    Electricity from fossil fuels (TWh)  Electricity from nuclear (TWh)  \\\n",
       "0                                  0.16                             0.0   \n",
       "1                                  0.09                             0.0   \n",
       "2                                  0.13                             0.0   \n",
       "3                                  0.31                             0.0   \n",
       "4                                  0.33                             0.0   \n",
       "5                                  0.34                             0.0   \n",
       "6                                  0.20                             0.0   \n",
       "7                                  0.20                             0.0   \n",
       "8                                  0.19                             0.0   \n",
       "9                                  0.16                             0.0   \n",
       "10                                 0.19                             0.0   \n",
       "11                                 0.18                             0.0   \n",
       "12                                 0.14                             0.0   \n",
       "13                                 0.22                             0.0   \n",
       "14                                 0.16                             0.0   \n",
       "15                                 0.15                             0.0   \n",
       "16                                 0.15                             0.0   \n",
       "17                                 0.18                             0.0   \n",
       "18                                 0.20                             0.0   \n",
       "19                                 0.18                             0.0   \n",
       "\n",
       "    Electricity from renewables (TWh)  Low-carbon electricity (% electricity)  \\\n",
       "0                                0.31                               65.957440   \n",
       "1                                0.50                               84.745766   \n",
       "2                                0.56                               81.159424   \n",
       "3                                0.63                               67.021280   \n",
       "4                                0.56                               62.921350   \n",
       "5                                0.59                               63.440857   \n",
       "6                                0.64                               76.190475   \n",
       "7                                0.75                               78.947370   \n",
       "8                                0.54                               73.972600   \n",
       "9                                0.78                               82.978720   \n",
       "10                               0.75                               79.787230   \n",
       "11                               0.60                               76.923090   \n",
       "12                               0.74                               84.090910   \n",
       "13                               0.89                               80.180176   \n",
       "14                               1.00                               86.206900   \n",
       "15                               1.03                               87.288140   \n",
       "16                               1.06                               87.603294   \n",
       "17                               1.09                               85.826775   \n",
       "18                               0.97                               82.905980   \n",
       "19                               0.89                               83.177570   \n",
       "\n",
       "    Primary energy consumption per capita (kWh/person)  \\\n",
       "0                                           302.59482    \n",
       "1                                           236.89185    \n",
       "2                                           210.86215    \n",
       "3                                           229.96822    \n",
       "4                                           204.23125    \n",
       "5                                           252.06912    \n",
       "6                                           304.42090    \n",
       "7                                           354.27990    \n",
       "8                                           607.83350    \n",
       "9                                           975.04816    \n",
       "10                                         1182.89200    \n",
       "11                                         1436.11430    \n",
       "12                                         1324.12110    \n",
       "13                                         1060.79260    \n",
       "14                                          868.57620    \n",
       "15                                          970.08030    \n",
       "16                                          862.79114    \n",
       "17                                          829.31195    \n",
       "18                                          924.25085    \n",
       "19                                          802.61255    \n",
       "\n",
       "    Energy intensity level of primary energy (MJ/$2017 PPP GDP)  \\\n",
       "0                                                1.64             \n",
       "1                                                1.74             \n",
       "2                                                1.40             \n",
       "3                                                1.40             \n",
       "4                                                1.20             \n",
       "5                                                1.41             \n",
       "6                                                1.50             \n",
       "7                                                1.53             \n",
       "8                                                1.94             \n",
       "9                                                2.25             \n",
       "10                                               2.46             \n",
       "11                                               3.23             \n",
       "12                                               2.61             \n",
       "13                                               2.46             \n",
       "14                                               2.25             \n",
       "15                                               2.37             \n",
       "16                                               2.24             \n",
       "17                                               2.30             \n",
       "18                                               2.44             \n",
       "19                                               2.41             \n",
       "\n",
       "    Value_co2_emissions_kt_by_country  gdp_growth  gdp_per_capita  \\\n",
       "0                          760.000000    3.400000    13283.800000   \n",
       "1                          730.000000    3.400000    13283.800000   \n",
       "2                         1029.999971    3.400000      179.426579   \n",
       "3                         1220.000029    8.832278      190.683814   \n",
       "4                         1029.999971    1.414118      211.382074   \n",
       "5                         1549.999952   11.229715      242.031313   \n",
       "6                         1759.999990    5.357403      263.733602   \n",
       "7                         1769.999981   13.826320      359.693158   \n",
       "8                         3559.999943    3.924984      364.663542   \n",
       "9                         4880.000114   21.390528      437.268740   \n",
       "10                        7110.000134   14.362441      543.306526   \n",
       "11                        8930.000305    0.426355      591.190030   \n",
       "12                        8079.999924   12.752287      638.845852   \n",
       "13                        5989.999771    5.600745      624.315454   \n",
       "14                        4880.000114    2.724543      614.223342   \n",
       "15                        5949.999809    1.451315      556.007221   \n",
       "16                        5300.000191    2.260314      512.012778   \n",
       "17                        4780.000210    2.647003      516.679862   \n",
       "18                        6070.000172    1.189228      485.668419   \n",
       "19                        6079.999924    3.911603      494.179350   \n",
       "\n",
       "   Density\\n(P/Km2)  Land Area(Km2)  Latitude  Longitude  \n",
       "0                60        652230.0  33.93911  67.709953  \n",
       "1                60        652230.0  33.93911  67.709953  \n",
       "2                60        652230.0  33.93911  67.709953  \n",
       "3                60        652230.0  33.93911  67.709953  \n",
       "4                60        652230.0  33.93911  67.709953  \n",
       "5                60        652230.0  33.93911  67.709953  \n",
       "6                60        652230.0  33.93911  67.709953  \n",
       "7                60        652230.0  33.93911  67.709953  \n",
       "8                60        652230.0  33.93911  67.709953  \n",
       "9                60        652230.0  33.93911  67.709953  \n",
       "10               60        652230.0  33.93911  67.709953  \n",
       "11               60        652230.0  33.93911  67.709953  \n",
       "12               60        652230.0  33.93911  67.709953  \n",
       "13               60        652230.0  33.93911  67.709953  \n",
       "14               60        652230.0  33.93911  67.709953  \n",
       "15               60        652230.0  33.93911  67.709953  \n",
       "16               60        652230.0  33.93911  67.709953  \n",
       "17               60        652230.0  33.93911  67.709953  \n",
       "18               60        652230.0  33.93911  67.709953  \n",
       "19               60        652230.0  33.93911  67.709953  "
      ]
     },
     "execution_count": 7,
     "metadata": {},
     "output_type": "execute_result"
    }
   ],
   "source": [
    "df.head(20)"
   ]
  },
  {
   "cell_type": "code",
   "execution_count": 8,
   "metadata": {
    "scrolled": true
   },
   "outputs": [
    {
     "data": {
      "text/plain": [
       "(3648, 19)"
      ]
     },
     "execution_count": 8,
     "metadata": {},
     "output_type": "execute_result"
    }
   ],
   "source": [
    "df.shape"
   ]
  },
  {
   "cell_type": "code",
   "execution_count": 9,
   "metadata": {},
   "outputs": [],
   "source": [
    "#Drop column Unnamed: 0\n",
    "\n",
    "df.drop(['Unnamed: 0'], axis = 1, inplace = True)"
   ]
  },
  {
   "cell_type": "markdown",
   "metadata": {},
   "source": [
    "##### Missing values"
   ]
  },
  {
   "cell_type": "code",
   "execution_count": 10,
   "metadata": {},
   "outputs": [
    {
     "data": {
      "text/plain": [
       "Country                                                             0\n",
       "Year                                                                0\n",
       "Access to electricity (% of population)                             0\n",
       "Access to clean fuels for cooking                                   0\n",
       "Renewable energy share in the total final energy consumption (%)    0\n",
       "Electricity from fossil fuels (TWh)                                 0\n",
       "Electricity from nuclear (TWh)                                      0\n",
       "Electricity from renewables (TWh)                                   0\n",
       "Low-carbon electricity (% electricity)                              0\n",
       "Primary energy consumption per capita (kWh/person)                  0\n",
       "Energy intensity level of primary energy (MJ/$2017 PPP GDP)         0\n",
       "Value_co2_emissions_kt_by_country                                   0\n",
       "gdp_growth                                                          0\n",
       "gdp_per_capita                                                      0\n",
       "Density\\n(P/Km2)                                                    0\n",
       "Land Area(Km2)                                                      0\n",
       "Latitude                                                            0\n",
       "Longitude                                                           0\n",
       "dtype: int64"
      ]
     },
     "execution_count": 10,
     "metadata": {},
     "output_type": "execute_result"
    }
   ],
   "source": [
    "# Check for missing values\n",
    "\n",
    "df.isnull().sum()\n",
    "\n",
    "# No missing values to handle"
   ]
  },
  {
   "cell_type": "markdown",
   "metadata": {},
   "source": [
    "##### Duplicates check"
   ]
  },
  {
   "cell_type": "code",
   "execution_count": 11,
   "metadata": {},
   "outputs": [],
   "source": [
    "dups = df.duplicated()"
   ]
  },
  {
   "cell_type": "code",
   "execution_count": 12,
   "metadata": {},
   "outputs": [
    {
     "data": {
      "text/plain": [
       "(3648,)"
      ]
     },
     "execution_count": 12,
     "metadata": {},
     "output_type": "execute_result"
    }
   ],
   "source": [
    "dups.shape # No dups"
   ]
  },
  {
   "cell_type": "markdown",
   "metadata": {},
   "source": [
    "##### Extreme values checks"
   ]
  },
  {
   "cell_type": "code",
   "execution_count": 14,
   "metadata": {
    "scrolled": true
   },
   "outputs": [
    {
     "name": "stderr",
     "output_type": "stream",
     "text": [
      "/var/folders/p4/0vwc9bn137jd4v8nzv7p6ghw0000gn/T/ipykernel_69286/3003081517.py:1: UserWarning: \n",
      "\n",
      "`distplot` is a deprecated function and will be removed in seaborn v0.14.0.\n",
      "\n",
      "Please adapt your code to use either `displot` (a figure-level function with\n",
      "similar flexibility) or `histplot` (an axes-level function for histograms).\n",
      "\n",
      "For a guide to updating your code to use the new functions, please see\n",
      "https://gist.github.com/mwaskom/de44147ed2974457ad6372750bbe5751\n",
      "\n",
      "  sns.distplot(df['Energy intensity level of primary energy (MJ/$2017 PPP GDP)'], bins=25) # Shows extreme values\n"
     ]
    },
    {
     "data": {
      "text/plain": [
       "<Axes: xlabel='Energy intensity level of primary energy (MJ/$2017 PPP GDP)', ylabel='Density'>"
      ]
     },
     "execution_count": 14,
     "metadata": {},
     "output_type": "execute_result"
    },
    {
     "data": {
      "image/png": "[encoded data removed]",
      "text/plain": [
       "<Figure size 640x480 with 1 Axes>"
      ]
     },
     "metadata": {},
     "output_type": "display_data"
    }
   ],
   "source": [
    "sns.distplot(df['Energy intensity level of primary energy (MJ/$2017 PPP GDP)'], bins=25) # Shows extreme values\n",
    "\n",
    "# Some of the outliers in the high values may need to be removed, but let's try without doing so first."
   ]
  },
  {
   "cell_type": "code",
   "execution_count": 16,
   "metadata": {},
   "outputs": [
    {
     "data": {
      "text/plain": [
       "5.306930288569079"
      ]
     },
     "execution_count": 16,
     "metadata": {},
     "output_type": "execute_result"
    }
   ],
   "source": [
    "df['Energy intensity level of primary energy (MJ/$2017 PPP GDP)'].mean() # Check the mean"
   ]
  },
  {
   "cell_type": "code",
   "execution_count": null,
   "metadata": {},
   "outputs": [],
   "source": [
    "Index(['Year',\n",
    "       'Access to electricity (% of population)',\n",
    "       'Access to clean fuels for cooking',\n",
    "       'Renewable energy share in the total final energy consumption (%)',\n",
    "       'Electricity from fossil fuels (TWh)', 'Electricity from nuclear (TWh)',\n",
    "       'Electricity from renewables (TWh)',\n",
    "       'Low-carbon electricity (% electricity)',\n",
    "       'Primary energy consumption per capita (kWh/person)',\n",
    "       'Energy intensity level of primary energy (MJ/$2017 PPP GDP)',\n",
    "       'Value_co2_emissions_kt_by_country', 'Land Area(Km2)', 'Latitude', 'Longitude'],\n",
    "      dtype='object')"
   ]
  },
  {
   "cell_type": "code",
   "execution_count": 17,
   "metadata": {},
   "outputs": [
    {
     "data": {
      "text/plain": [
       "4.48"
      ]
     },
     "execution_count": 17,
     "metadata": {},
     "output_type": "execute_result"
    }
   ],
   "source": [
    "df['Energy intensity level of primary energy (MJ/$2017 PPP GDP)'].median() # Check the median"
   ]
  },
  {
   "cell_type": "code",
   "execution_count": 18,
   "metadata": {},
   "outputs": [
    {
     "data": {
      "text/plain": [
       "32.57"
      ]
     },
     "execution_count": 18,
     "metadata": {},
     "output_type": "execute_result"
    }
   ],
   "source": [
    "df['Energy intensity level of primary energy (MJ/$2017 PPP GDP)'].max() # Check the max"
   ]
  },
  {
   "cell_type": "markdown",
   "metadata": {},
   "source": [
    "### 3. Data prep for regression analysis "
   ]
  },
  {
   "cell_type": "code",
   "execution_count": 19,
   "metadata": {
    "scrolled": true
   },
   "outputs": [
    {
     "data": {
      "image/png": "[encoded data removed]",
      "text/plain": [
       "<Figure size 640x480 with 1 Axes>"
      ]
     },
     "metadata": {},
     "output_type": "display_data"
    }
   ],
   "source": [
    "# Create a scatterplot using matplotlib for another look at how the chosen variables plot against each other.\n",
    "\n",
    "df.plot(x = 'gdp_per_capita', y='Energy intensity level of primary energy (MJ/$2017 PPP GDP)',style='o') # The style option creates a scatterplot; without it, we only have lines.\n",
    "plt.title('GDP vs Energy intensity level')  \n",
    "plt.xlabel('GDP ($)')  \n",
    "plt.ylabel('Energy intensity level (MJ/$)')  \n",
    "plt.show()"
   ]
  },
  {
   "cell_type": "code",
   "execution_count": 20,
   "metadata": {},
   "outputs": [],
   "source": [
    "# Reshape the variables into NumPy arrays and put them into separate objects.\n",
    "\n",
    "X = df['gdp_per_capita'].values.reshape(-1,1)\n",
    "y = df['Energy intensity level of primary energy (MJ/$2017 PPP GDP)'].values.reshape(-1,1)"
   ]
  },
  {
   "cell_type": "code",
   "execution_count": 21,
   "metadata": {},
   "outputs": [
    {
     "data": {
      "text/plain": [
       "array([[13283.8      ],\n",
       "       [13283.8      ],\n",
       "       [  179.4265792],\n",
       "       ...,\n",
       "       [ 1254.642265 ],\n",
       "       [ 1316.740657 ],\n",
       "       [ 1214.50982  ]])"
      ]
     },
     "execution_count": 21,
     "metadata": {},
     "output_type": "execute_result"
    }
   ],
   "source": [
    "X"
   ]
  },
  {
   "cell_type": "code",
   "execution_count": 22,
   "metadata": {},
   "outputs": [
    {
     "data": {
      "text/plain": [
       "array([[ 1.64],\n",
       "       [ 1.74],\n",
       "       [ 1.4 ],\n",
       "       ...,\n",
       "       [ 9.83],\n",
       "       [10.47],\n",
       "       [10.  ]])"
      ]
     },
     "execution_count": 22,
     "metadata": {},
     "output_type": "execute_result"
    }
   ],
   "source": [
    "y"
   ]
  },
  {
   "cell_type": "code",
   "execution_count": 23,
   "metadata": {
    "scrolled": true
   },
   "outputs": [],
   "source": [
    "# Split data into a training set and a test set.\n",
    "\n",
    "X_train, X_test, y_train, y_test = train_test_split(X, y, test_size=0.3, random_state=0)"
   ]
  },
  {
   "cell_type": "markdown",
   "metadata": {},
   "source": [
    "### 4. Regression analysis"
   ]
  },
  {
   "cell_type": "code",
   "execution_count": 34,
   "metadata": {},
   "outputs": [],
   "source": [
    "# Create a regression object.\n",
    "\n",
    "regression = LinearRegression()  # This is the regression object, which will be fit onto the training set."
   ]
  },
  {
   "cell_type": "code",
   "execution_count": 35,
   "metadata": {},
   "outputs": [
    {
     "data": {
      "text/html": [
       "<style>#sk-container-id-2 {color: black;}#sk-container-id-2 pre{padding: 0;}#sk-container-id-2 div.sk-toggleable {background-color: white;}#sk-container-id-2 label.sk-toggleable__label {cursor: pointer;display: block;width: 100%;margin-bottom: 0;padding: 0.3em;box-sizing: border-box;text-align: center;}#sk-container-id-2 label.sk-toggleable__label-arrow:before {content: \"▸\";float: left;margin-right: 0.25em;color: #696969;}#sk-container-id-2 label.sk-toggleable__label-arrow:hover:before {color: black;}#sk-container-id-2 div.sk-estimator:hover label.sk-toggleable__label-arrow:before {color: black;}#sk-container-id-2 div.sk-toggleable__content {max-height: 0;max-width: 0;overflow: hidden;text-align: left;background-color: #f0f8ff;}#sk-container-id-2 div.sk-toggleable__content pre {margin: 0.2em;color: black;border-radius: 0.25em;background-color: #f0f8ff;}#sk-container-id-2 input.sk-toggleable__control:checked~div.sk-toggleable__content {max-height: 200px;max-width: 100%;overflow: auto;}#sk-container-id-2 input.sk-toggleable__control:checked~label.sk-toggleable__label-arrow:before {content: \"▾\";}#sk-container-id-2 div.sk-estimator input.sk-toggleable__control:checked~label.sk-toggleable__label {background-color: #d4ebff;}#sk-container-id-2 div.sk-label input.sk-toggleable__control:checked~label.sk-toggleable__label {background-color: #d4ebff;}#sk-container-id-2 input.sk-hidden--visually {border: 0;clip: rect(1px 1px 1px 1px);clip: rect(1px, 1px, 1px, 1px);height: 1px;margin: -1px;overflow: hidden;padding: 0;position: absolute;width: 1px;}#sk-container-id-2 div.sk-estimator {font-family: monospace;background-color: #f0f8ff;border: 1px dotted black;border-radius: 0.25em;box-sizing: border-box;margin-bottom: 0.5em;}#sk-container-id-2 div.sk-estimator:hover {background-color: #d4ebff;}#sk-container-id-2 div.sk-parallel-item::after {content: \"\";width: 100%;border-bottom: 1px solid gray;flex-grow: 1;}#sk-container-id-2 div.sk-label:hover label.sk-toggleable__label {background-color: #d4ebff;}#sk-container-id-2 div.sk-serial::before {content: \"\";position: absolute;border-left: 1px solid gray;box-sizing: border-box;top: 0;bottom: 0;left: 50%;z-index: 0;}#sk-container-id-2 div.sk-serial {display: flex;flex-direction: column;align-items: center;background-color: white;padding-right: 0.2em;padding-left: 0.2em;position: relative;}#sk-container-id-2 div.sk-item {position: relative;z-index: 1;}#sk-container-id-2 div.sk-parallel {display: flex;align-items: stretch;justify-content: center;background-color: white;position: relative;}#sk-container-id-2 div.sk-item::before, #sk-container-id-2 div.sk-parallel-item::before {content: \"\";position: absolute;border-left: 1px solid gray;box-sizing: border-box;top: 0;bottom: 0;left: 50%;z-index: -1;}#sk-container-id-2 div.sk-parallel-item {display: flex;flex-direction: column;z-index: 1;position: relative;background-color: white;}#sk-container-id-2 div.sk-parallel-item:first-child::after {align-self: flex-end;width: 50%;}#sk-container-id-2 div.sk-parallel-item:last-child::after {align-self: flex-start;width: 50%;}#sk-container-id-2 div.sk-parallel-item:only-child::after {width: 0;}#sk-container-id-2 div.sk-dashed-wrapped {border: 1px dashed gray;margin: 0 0.4em 0.5em 0.4em;box-sizing: border-box;padding-bottom: 0.4em;background-color: white;}#sk-container-id-2 div.sk-label label {font-family: monospace;font-weight: bold;display: inline-block;line-height: 1.2em;}#sk-container-id-2 div.sk-label-container {text-align: center;}#sk-container-id-2 div.sk-container {/* jupyter's `normalize.less` sets `[hidden] { display: none; }` but bootstrap.min.css set `[hidden] { display: none !important; }` so we also need the `!important` here to be able to override the default hidden behavior on the sphinx rendered scikit-learn.org. See: https://github.com/scikit-learn/scikit-learn/issues/21755 */display: inline-block !important;position: relative;}#sk-container-id-2 div.sk-text-repr-fallback {display: none;}</style><div id=\"sk-container-id-2\" class=\"sk-top-container\"><div class=\"sk-text-repr-fallback\"><pre>LinearRegression()</pre><b>In a Jupyter environment, please rerun this cell to show the HTML representation or trust the notebook. <br />On GitHub, the HTML representation is unable to render, please try loading this page with nbviewer.org.</b></div><div class=\"sk-container\" hidden><div class=\"sk-item\"><div class=\"sk-estimator sk-toggleable\"><input class=\"sk-toggleable__control sk-hidden--visually\" id=\"sk-estimator-id-2\" type=\"checkbox\" checked><label for=\"sk-estimator-id-2\" class=\"sk-toggleable__label sk-toggleable__label-arrow\">LinearRegression</label><div class=\"sk-toggleable__content\"><pre>LinearRegression()</pre></div></div></div></div></div>"
      ],
      "text/plain": [
       "LinearRegression()"
      ]
     },
     "execution_count": 35,
     "metadata": {},
     "output_type": "execute_result"
    }
   ],
   "source": [
    "# Fit the regression object onto the training set.\n",
    "\n",
    "regression.fit(X_train, y_train)"
   ]
  },
  {
   "cell_type": "code",
   "execution_count": 36,
   "metadata": {},
   "outputs": [],
   "source": [
    "# Predict the values of y using X.\n",
    "\n",
    "y_predicted = regression.predict(X_test)"
   ]
  },
  {
   "cell_type": "code",
   "execution_count": 48,
   "metadata": {},
   "outputs": [
    {
     "data": {
      "image/png": "[encoded data removed]",
      "text/plain": [
       "<Figure size 640x480 with 1 Axes>"
      ]
     },
     "metadata": {},
     "output_type": "display_data"
    }
   ],
   "source": [
    "# Create a plot that shows the regression line from the model on the test set.\n",
    "\n",
    "plot_test = plt\n",
    "plot_test.scatter(X_test, y_test, color='blue', s = 15)\n",
    "plot_test.plot(X_test, y_predicted, color='orange', linewidth =3)\n",
    "plot_test.title('GDP vs Energy intensity level(Test set)')\n",
    "plot_test.xlabel('GDP ($)')\n",
    "plot_test.ylabel('Energy intensity level (MJ/$)')\n",
    "plot_test.show()"
   ]
  },
  {
   "cell_type": "markdown",
   "metadata": {},
   "source": [
    "### Linear model represented doesn’t perfectly cover all of the data points. In the area where the Energy intensity level is low (up to 1500 MJ/),  there are still many data points that indicate low GDP, which contradicts the hypothesis."
   ]
  },
  {
   "cell_type": "code",
   "execution_count": 38,
   "metadata": {},
   "outputs": [],
   "source": [
    "# Create objects that contain the model summary statistics.\n",
    "\n",
    "rmse = mean_squared_error(y_test, y_predicted) # This is the mean squared error\n",
    "r2 = r2_score(y_test, y_predicted) # This is the R2 score. "
   ]
  },
  {
   "cell_type": "code",
   "execution_count": 40,
   "metadata": {},
   "outputs": [
    {
     "name": "stdout",
     "output_type": "stream",
     "text": [
      "Slope: [[-2.99640059e-05]]\n",
      "Mean squared error:  11.44784741039778\n",
      "R2 score:  0.03699569019994875\n"
     ]
    }
   ],
   "source": [
    "# Print the model summary statistics. This is where you evaluate the performance of the model.\n",
    "\n",
    "print('Slope:' ,regression.coef_)\n",
    "print('Mean squared error: ', rmse)\n",
    "print('R2 score: ', r2)"
   ]
  },
  {
   "cell_type": "code",
   "execution_count": 41,
   "metadata": {},
   "outputs": [
    {
     "data": {
      "text/plain": [
       "array([[5.69232633],\n",
       "       [5.69719332],\n",
       "       [5.62670928],\n",
       "       ...,\n",
       "       [5.51747754],\n",
       "       [5.69876635],\n",
       "       [5.65557912]])"
      ]
     },
     "execution_count": 41,
     "metadata": {},
     "output_type": "execute_result"
    }
   ],
   "source": [
    "y_predicted"
   ]
  },
  {
   "cell_type": "code",
   "execution_count": 42,
   "metadata": {
    "scrolled": true
   },
   "outputs": [
    {
     "data": {
      "text/html": [
       "<div>\n",
       "<style scoped>\n",
       "    .dataframe tbody tr th:only-of-type {\n",
       "        vertical-align: middle;\n",
       "    }\n",
       "\n",
       "    .dataframe tbody tr th {\n",
       "        vertical-align: top;\n",
       "    }\n",
       "\n",
       "    .dataframe thead th {\n",
       "        text-align: right;\n",
       "    }\n",
       "</style>\n",
       "<table border=\"1\" class=\"dataframe\">\n",
       "  <thead>\n",
       "    <tr style=\"text-align: right;\">\n",
       "      <th></th>\n",
       "      <th>Actual</th>\n",
       "      <th>Predicted</th>\n",
       "    </tr>\n",
       "  </thead>\n",
       "  <tbody>\n",
       "    <tr>\n",
       "      <th>0</th>\n",
       "      <td>6.00</td>\n",
       "      <td>5.692326</td>\n",
       "    </tr>\n",
       "    <tr>\n",
       "      <th>1</th>\n",
       "      <td>7.05</td>\n",
       "      <td>5.697193</td>\n",
       "    </tr>\n",
       "    <tr>\n",
       "      <th>2</th>\n",
       "      <td>3.54</td>\n",
       "      <td>5.626709</td>\n",
       "    </tr>\n",
       "    <tr>\n",
       "      <th>3</th>\n",
       "      <td>3.78</td>\n",
       "      <td>5.292429</td>\n",
       "    </tr>\n",
       "    <tr>\n",
       "      <th>4</th>\n",
       "      <td>6.49</td>\n",
       "      <td>5.658620</td>\n",
       "    </tr>\n",
       "    <tr>\n",
       "      <th>5</th>\n",
       "      <td>4.47</td>\n",
       "      <td>5.685155</td>\n",
       "    </tr>\n",
       "    <tr>\n",
       "      <th>6</th>\n",
       "      <td>5.30</td>\n",
       "      <td>5.668666</td>\n",
       "    </tr>\n",
       "    <tr>\n",
       "      <th>7</th>\n",
       "      <td>3.90</td>\n",
       "      <td>5.573114</td>\n",
       "    </tr>\n",
       "    <tr>\n",
       "      <th>8</th>\n",
       "      <td>5.30</td>\n",
       "      <td>5.309315</td>\n",
       "    </tr>\n",
       "    <tr>\n",
       "      <th>9</th>\n",
       "      <td>3.97</td>\n",
       "      <td>5.332424</td>\n",
       "    </tr>\n",
       "    <tr>\n",
       "      <th>10</th>\n",
       "      <td>4.88</td>\n",
       "      <td>5.691989</td>\n",
       "    </tr>\n",
       "    <tr>\n",
       "      <th>11</th>\n",
       "      <td>3.88</td>\n",
       "      <td>5.582240</td>\n",
       "    </tr>\n",
       "    <tr>\n",
       "      <th>12</th>\n",
       "      <td>4.03</td>\n",
       "      <td>5.696125</td>\n",
       "    </tr>\n",
       "    <tr>\n",
       "      <th>13</th>\n",
       "      <td>5.28</td>\n",
       "      <td>5.568789</td>\n",
       "    </tr>\n",
       "    <tr>\n",
       "      <th>14</th>\n",
       "      <td>3.68</td>\n",
       "      <td>5.577577</td>\n",
       "    </tr>\n",
       "    <tr>\n",
       "      <th>15</th>\n",
       "      <td>5.76</td>\n",
       "      <td>5.612164</td>\n",
       "    </tr>\n",
       "    <tr>\n",
       "      <th>16</th>\n",
       "      <td>15.04</td>\n",
       "      <td>5.515950</td>\n",
       "    </tr>\n",
       "    <tr>\n",
       "      <th>17</th>\n",
       "      <td>3.25</td>\n",
       "      <td>4.777758</td>\n",
       "    </tr>\n",
       "    <tr>\n",
       "      <th>18</th>\n",
       "      <td>6.43</td>\n",
       "      <td>5.650071</td>\n",
       "    </tr>\n",
       "    <tr>\n",
       "      <th>19</th>\n",
       "      <td>6.33</td>\n",
       "      <td>4.523878</td>\n",
       "    </tr>\n",
       "    <tr>\n",
       "      <th>20</th>\n",
       "      <td>2.11</td>\n",
       "      <td>5.326993</td>\n",
       "    </tr>\n",
       "    <tr>\n",
       "      <th>21</th>\n",
       "      <td>3.47</td>\n",
       "      <td>5.598763</td>\n",
       "    </tr>\n",
       "    <tr>\n",
       "      <th>22</th>\n",
       "      <td>4.37</td>\n",
       "      <td>5.583087</td>\n",
       "    </tr>\n",
       "    <tr>\n",
       "      <th>23</th>\n",
       "      <td>4.54</td>\n",
       "      <td>5.311134</td>\n",
       "    </tr>\n",
       "    <tr>\n",
       "      <th>24</th>\n",
       "      <td>3.94</td>\n",
       "      <td>4.416367</td>\n",
       "    </tr>\n",
       "    <tr>\n",
       "      <th>25</th>\n",
       "      <td>1.03</td>\n",
       "      <td>5.638039</td>\n",
       "    </tr>\n",
       "    <tr>\n",
       "      <th>26</th>\n",
       "      <td>1.69</td>\n",
       "      <td>3.825043</td>\n",
       "    </tr>\n",
       "    <tr>\n",
       "      <th>27</th>\n",
       "      <td>11.64</td>\n",
       "      <td>5.694784</td>\n",
       "    </tr>\n",
       "    <tr>\n",
       "      <th>28</th>\n",
       "      <td>4.49</td>\n",
       "      <td>4.091265</td>\n",
       "    </tr>\n",
       "    <tr>\n",
       "      <th>29</th>\n",
       "      <td>4.78</td>\n",
       "      <td>5.585973</td>\n",
       "    </tr>\n",
       "  </tbody>\n",
       "</table>\n",
       "</div>"
      ],
      "text/plain": [
       "    Actual  Predicted\n",
       "0     6.00   5.692326\n",
       "1     7.05   5.697193\n",
       "2     3.54   5.626709\n",
       "3     3.78   5.292429\n",
       "4     6.49   5.658620\n",
       "5     4.47   5.685155\n",
       "6     5.30   5.668666\n",
       "7     3.90   5.573114\n",
       "8     5.30   5.309315\n",
       "9     3.97   5.332424\n",
       "10    4.88   5.691989\n",
       "11    3.88   5.582240\n",
       "12    4.03   5.696125\n",
       "13    5.28   5.568789\n",
       "14    3.68   5.577577\n",
       "15    5.76   5.612164\n",
       "16   15.04   5.515950\n",
       "17    3.25   4.777758\n",
       "18    6.43   5.650071\n",
       "19    6.33   4.523878\n",
       "20    2.11   5.326993\n",
       "21    3.47   5.598763\n",
       "22    4.37   5.583087\n",
       "23    4.54   5.311134\n",
       "24    3.94   4.416367\n",
       "25    1.03   5.638039\n",
       "26    1.69   3.825043\n",
       "27   11.64   5.694784\n",
       "28    4.49   4.091265\n",
       "29    4.78   5.585973"
      ]
     },
     "execution_count": 42,
     "metadata": {},
     "output_type": "execute_result"
    }
   ],
   "source": [
    "# Create a dataframe comparing the actual and predicted values of y.\n",
    "\n",
    "data = pd.DataFrame({'Actual': y_test.flatten(), 'Predicted': y_predicted.flatten()})\n",
    "data.head(30)"
   ]
  },
  {
   "cell_type": "markdown",
   "metadata": {},
   "source": [
    "##### Compare how the regression fits the training set"
   ]
  },
  {
   "cell_type": "code",
   "execution_count": 31,
   "metadata": {},
   "outputs": [],
   "source": [
    "# Predict.\n",
    "\n",
    "y_predicted_train = regression.predict(X_train) # This is predicting X_train!"
   ]
  },
  {
   "cell_type": "code",
   "execution_count": 32,
   "metadata": {},
   "outputs": [],
   "source": [
    "rmse = mean_squared_error(y_train, y_predicted_train)\n",
    "r2 = r2_score(y_train, y_predicted_train)"
   ]
  },
  {
   "cell_type": "code",
   "execution_count": 33,
   "metadata": {},
   "outputs": [
    {
     "name": "stdout",
     "output_type": "stream",
     "text": [
      "Slope: [[-2.99640059e-05]]\n",
      "Mean squared error:  11.398138259010706\n",
      "R2 score:  0.027102582724644275\n"
     ]
    }
   ],
   "source": [
    "print('Slope:' ,regression.coef_)\n",
    "print('Mean squared error: ', rmse)\n",
    "print('R2 score: ', r2)"
   ]
  },
  {
   "cell_type": "code",
   "execution_count": 49,
   "metadata": {
    "scrolled": true
   },
   "outputs": [
    {
     "data": {
      "image/png": "[encoded data removed]",
      "text/plain": [
       "<Figure size 640x480 with 1 Axes>"
      ]
     },
     "metadata": {},
     "output_type": "display_data"
    }
   ],
   "source": [
    "# Visualizing the training set results.\n",
    "\n",
    "plot_test = plt\n",
    "plot_test.scatter(X_train, y_train, color='yellow', s = 15)\n",
    "plot_test.plot(X_train, y_predicted_train, color='red', linewidth =3)\n",
    "plot_test.title('GDP vs Energy intensity level (Train set)')\n",
    "plot_test.xlabel('GDP ($)')\n",
    "plot_test.ylabel('Energy intensity level (MJ/$)')\n",
    "plot_test.show()"
   ]
  },
  {
   "cell_type": "markdown",
   "metadata": {},
   "source": [
    "### Model fits the training a even less than the test set (R2= 0.027). It confirms that the relationship isn’t purely linear.\n",
    "## Knowing this, we can be sure that the hypothesis is not correct."
   ]
  },
  {
   "cell_type": "code",
   "execution_count": null,
   "metadata": {},
   "outputs": [],
   "source": []
  }
 ],
 "metadata": {
  "kernelspec": {
   "display_name": "Python 3 (ipykernel)",
   "language": "python",
   "name": "python3"
  },
  "language_info": {
   "codemirror_mode": {
    "name": "ipython",
    "version": 3
   },
   "file_extension": ".py",
   "mimetype": "text/x-python",
   "name": "python",
   "nbconvert_exporter": "python",
   "pygments_lexer": "ipython3",
   "version": "3.11.4"
  }
 },
 "nbformat": 4,
 "nbformat_minor": 4
}
